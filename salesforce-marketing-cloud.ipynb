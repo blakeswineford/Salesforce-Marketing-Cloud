{
 "cells": [
  {
   "cell_type": "code",
   "execution_count": null,
   "metadata": {},
   "outputs": [],
   "source": [
    "import requests\n",
    "from bs4 import BeautifulSoup\n",
    "\n",
    "# Load the list of URLs from a file or define it in the script\n",
    "with open('websites.csv', 'r') as f:\n",
    "    urls = [line.strip() for line in f.readlines()]\n",
    "\n",
    "# Define keywords that may indicate a good potential customer\n",
    "keywords = ['email marketing', 'digital marketing', 'newsletter', 'marketing automation', 'salesforce marketing cloud']\n",
    "\n",
    "for url in urls:\n",
    "    try:\n",
    "        # Send HTTP request\n",
    "        response = requests.get(url)\n",
    "\n",
    "        # Parse HTML content\n",
    "        soup = BeautifulSoup(response.text, 'html.parser')\n",
    "\n",
    "        # Look for relevant information\n",
    "        for keyword in keywords:\n",
    "            if soup.find(text=lambda t: keyword in t.lower()):\n",
    "                print(f\"{url} may be a good potential customer for Salesforce Marketing Cloud based on the keyword '{keyword}'.\")\n",
    "\n",
    "    except:\n",
    "        print(f\"An error occurred while accessing {url}. Skipping...\")"
   ]
  }
 ],
 "metadata": {
  "language_info": {
   "name": "python"
  },
  "orig_nbformat": 4
 },
 "nbformat": 4,
 "nbformat_minor": 2
}
